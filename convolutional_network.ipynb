{
 "cells": [
  {
   "cell_type": "markdown",
   "metadata": {},
   "source": [
    "# Convolutional Network\n",
    "A Convolutional Network implementation example using TensorFlow library.\n",
    "This example is using the MNIST database of handwritten digits\n",
    "(http://yann.lecun.com/exdb/mnist/)\n",
    "\n",
    "Reference: Aymeric Damien\n",
    "Project: https://github.com/aymericdamien/TensorFlow-Examples/\n",
    "\n",
    "https://www.tensorflow.org/get_started/mnist/pros"
   ]
  },
  {
   "cell_type": "markdown",
   "metadata": {},
   "source": [
    "# Import MNIST data"
   ]
  },
  {
   "cell_type": "code",
   "execution_count": 1,
   "metadata": {
    "collapsed": false,
    "scrolled": true
   },
   "outputs": [
    {
     "name": "stdout",
     "output_type": "stream",
     "text": [
      "Extracting MNIST_data/train-images-idx3-ubyte.gz\n",
      "Extracting MNIST_data/train-labels-idx1-ubyte.gz\n",
      "Extracting MNIST_data/t10k-images-idx3-ubyte.gz\n",
      "Extracting MNIST_data/t10k-labels-idx1-ubyte.gz\n"
     ]
    }
   ],
   "source": [
    "import tensorflow as tf\n",
    "from tensorflow.examples.tutorials.mnist import input_data\n",
    "mnist = input_data.read_data_sets(\"MNIST_data/\", one_hot=True)"
   ]
  },
  {
   "cell_type": "code",
   "execution_count": 27,
   "metadata": {
    "collapsed": true
   },
   "outputs": [],
   "source": [
    "# Parameters\n",
    "learning_rate = 0.001\n",
    "training_iters = 200000\n",
    "batch_size = 50\n",
    "display_step = 100\n",
    "\n",
    "# Network Parameters\n",
    "n_input = 784 # MNIST data input (img shape: 28*28)\n",
    "n_classes = 10 # MNIST total classes (0-9 digits)\n",
    "dropout = 0.5 # Dropout, probability to keep units\n",
    "\n",
    "# tf Graph input\n",
    "x = tf.placeholder(tf.float32, [None, n_input])\n",
    "y = tf.placeholder(tf.float32, [None, n_classes])\n",
    "keep_prob = tf.placeholder(tf.float32) #dropout (keep probability)"
   ]
  },
  {
   "cell_type": "code",
   "execution_count": 28,
   "metadata": {
    "collapsed": true
   },
   "outputs": [],
   "source": [
    "def weight_variable(shape):\n",
    "    # add stddev 0.1 to avoide dead neurons\n",
    "    initial = tf.truncated_normal(shape, stddev=0.1) \n",
    "    return tf.Variable(initial)\n",
    "\n",
    "\n",
    "def bias_variable(shape):\n",
    "    # due to ReLU, add bias 0.1 to avoide dead neurons\n",
    "    initial = tf.constant(0.1, shape = shape)\n",
    "    return tf.Variable(initial)"
   ]
  },
  {
   "cell_type": "code",
   "execution_count": 29,
   "metadata": {
    "collapsed": true
   },
   "outputs": [],
   "source": [
    "# Create some wrappers for simplicity\n",
    "def conv2d(x, W, b, strides=1):\n",
    "    # Conv2D wrapper, with bias and relu activation\n",
    "    x = tf.nn.conv2d(x, W, strides=[1, strides, strides, 1], padding='SAME')\n",
    "    x = tf.nn.bias_add(x, b)\n",
    "    return tf.nn.relu(x)\n",
    "\n",
    "\n",
    "def maxpool2d(x, k=2):\n",
    "    # MaxPool2D wrapper\n",
    "    return tf.nn.max_pool(x, ksize=[1, k, k, 1], strides=[1, k, k, 1],\n",
    "                          padding='SAME')\n",
    "\n",
    "\n",
    "# Create model\n",
    "def conv_net(x, weights, biases, dropout):\n",
    "    # Reshape input picture\n",
    "    x = tf.reshape(x, shape=[-1, 28, 28, 1])\n",
    "\n",
    "    # Convolution Layer with ReLU \n",
    "    h_conv1 = tf.nn.relu(conv2d(x, weights['wc1'], biases['bc1']))\n",
    "    # Max Pooling (down-sampling)\n",
    "    h_pool1 = maxpool2d(h_conv1, k=2)\n",
    "\n",
    "    # Convolution Layer with ReLU \n",
    "    h_conv2 = tf.nn.relu(conv2d(h_pool1, weights['wc2'], biases['bc2']))\n",
    "    # Max Pooling (down-sampling)\n",
    "    h_pool2 = maxpool2d(h_conv2, k=2)\n",
    "\n",
    "    # Fully connected layer\n",
    "    # Reshape h_pool2 output to fit fully connected layer input\n",
    "    fc1 = tf.reshape(h_pool2, [-1, weights['wd1'].get_shape().as_list()[0]])\n",
    "    fc1 = tf.add(tf.matmul(fc1, weights['wd1']), biases['bd1'])\n",
    "    fc1 = tf.nn.relu(fc1)\n",
    "    # Apply Dropout\n",
    "    fc1 = tf.nn.dropout(fc1, dropout)\n",
    "\n",
    "    # Output, class prediction\n",
    "    out = (tf.add(tf.matmul(fc1, weights['out']), biases['out']))\n",
    "    \n",
    "    #out = tf.nn.softmax(tf.matmul(x, W) + b)\n",
    "    return out"
   ]
  },
  {
   "cell_type": "code",
   "execution_count": 30,
   "metadata": {
    "collapsed": false
   },
   "outputs": [],
   "source": [
    "# Store layers weight & bias\n",
    "# weights = {\n",
    "#     # 5x5 conv, 1 input, 32 outputs\n",
    "#     'wc1': tf.Variable(tf.random_normal([5, 5, 1, 32])),\n",
    "#     # 5x5 conv, 32 inputs, 64 outputs\n",
    "#     'wc2': tf.Variable(tf.random_normal([5, 5, 32, 64])),\n",
    "#     # fully connected, 7*7*64 inputs, 1024 outputs\n",
    "#     'wd1': tf.Variable(tf.random_normal([7*7*64, 1024])),\n",
    "#     # 1024 inputs, 10 outputs (class prediction)\n",
    "#     'out': tf.Variable(tf.random_normal([1024, n_classes]))\n",
    "# }\n",
    "weights = {\n",
    "    # 5x5 conv, 1 input(Channels of image, ex. RGB is 3 input), \n",
    "    # 32 outputs: 32 features for each 5x5 patch\n",
    "    \n",
    "    'wc1': weight_variable([5, 5, 1, 32]),\n",
    "    # 5x5 conv, 32 inputs, 64 outputs\n",
    "    'wc2': weight_variable([5, 5, 32, 64]),\n",
    "    # fully connected, 7*7*64 inputs, 1024 outputs\n",
    "    'wd1': weight_variable([7*7*64, 1024]),\n",
    "    # 1024 inputs, 10 outputs (class prediction)\n",
    "    'out': weight_variable([1024, n_classes])\n",
    "}\n",
    "\n",
    "# biases = {\n",
    "#     'bc1': tf.Variable(tf.random_normal([32])),\n",
    "#     'bc2': tf.Variable(tf.random_normal([64])),\n",
    "#     'bd1': tf.Variable(tf.random_normal([1024])),\n",
    "#     'out': tf.Variable(tf.random_normal([n_classes]))\n",
    "# }\n",
    "\n",
    "biases = {\n",
    "    'bc1': bias_variable([32]),\n",
    "    'bc2': bias_variable([64]),\n",
    "    'bd1': bias_variable([1024]),\n",
    "    'out': bias_variable([n_classes])\n",
    "}\n",
    "\n",
    "\n",
    "\n",
    "# Construct model\n",
    "pred = conv_net(x, weights, biases, keep_prob)\n",
    "\n",
    "# Define loss and optimizer\n",
    "cost = tf.reduce_mean(tf.nn.softmax_cross_entropy_with_logits(logits=pred, labels=y))\n",
    "optimizer = tf.train.AdamOptimizer(learning_rate=learning_rate).minimize(cost)\n",
    "\n",
    "# Evaluate model\n",
    "correct_pred = tf.equal(tf.argmax(pred, 1), tf.argmax(y, 1))\n",
    "accuracy = tf.reduce_mean(tf.cast(correct_pred, tf.float32))\n",
    "\n",
    "# Initializing the variables\n",
    "init = tf.global_variables_initializer()"
   ]
  },
  {
   "cell_type": "code",
   "execution_count": 31,
   "metadata": {
    "collapsed": false
   },
   "outputs": [
    {
     "name": "stdout",
     "output_type": "stream",
     "text": [
      "Iter 5000, Minibatch Loss= 0.193045, Training Accuracy= 0.92000\n",
      "Iter 10000, Minibatch Loss= 0.126972, Training Accuracy= 0.94000\n",
      "Iter 15000, Minibatch Loss= 0.113862, Training Accuracy= 0.96000\n",
      "Iter 20000, Minibatch Loss= 0.058520, Training Accuracy= 0.98000\n",
      "Iter 25000, Minibatch Loss= 0.069443, Training Accuracy= 0.98000\n",
      "Iter 30000, Minibatch Loss= 0.082152, Training Accuracy= 0.98000\n",
      "Iter 35000, Minibatch Loss= 0.072639, Training Accuracy= 0.96000\n",
      "Iter 40000, Minibatch Loss= 0.020335, Training Accuracy= 0.98000\n",
      "Iter 45000, Minibatch Loss= 0.042227, Training Accuracy= 0.98000\n",
      "Iter 50000, Minibatch Loss= 0.047660, Training Accuracy= 0.98000\n",
      "Iter 55000, Minibatch Loss= 0.090970, Training Accuracy= 0.96000\n",
      "Iter 60000, Minibatch Loss= 0.075930, Training Accuracy= 0.98000\n",
      "Iter 65000, Minibatch Loss= 0.097007, Training Accuracy= 0.98000\n",
      "Iter 70000, Minibatch Loss= 0.023955, Training Accuracy= 1.00000\n",
      "Iter 75000, Minibatch Loss= 0.070620, Training Accuracy= 0.96000\n",
      "Iter 80000, Minibatch Loss= 0.037943, Training Accuracy= 0.98000\n",
      "Iter 85000, Minibatch Loss= 0.021497, Training Accuracy= 1.00000\n",
      "Iter 90000, Minibatch Loss= 0.048273, Training Accuracy= 0.98000\n",
      "Iter 95000, Minibatch Loss= 0.038740, Training Accuracy= 0.98000\n",
      "Iter 100000, Minibatch Loss= 0.049165, Training Accuracy= 0.98000\n",
      "Iter 105000, Minibatch Loss= 0.047955, Training Accuracy= 0.98000\n",
      "Iter 110000, Minibatch Loss= 0.023839, Training Accuracy= 0.98000\n",
      "Iter 115000, Minibatch Loss= 0.004477, Training Accuracy= 1.00000\n",
      "Iter 120000, Minibatch Loss= 0.035071, Training Accuracy= 1.00000\n",
      "Iter 125000, Minibatch Loss= 0.046591, Training Accuracy= 0.98000\n",
      "Iter 130000, Minibatch Loss= 0.001986, Training Accuracy= 1.00000\n",
      "Iter 135000, Minibatch Loss= 0.004970, Training Accuracy= 1.00000\n",
      "Iter 140000, Minibatch Loss= 0.018032, Training Accuracy= 1.00000\n",
      "Iter 145000, Minibatch Loss= 0.005466, Training Accuracy= 1.00000\n",
      "Iter 150000, Minibatch Loss= 0.001716, Training Accuracy= 1.00000\n",
      "Iter 155000, Minibatch Loss= 0.032065, Training Accuracy= 0.98000\n",
      "Iter 160000, Minibatch Loss= 0.016183, Training Accuracy= 0.98000\n",
      "Iter 165000, Minibatch Loss= 0.010639, Training Accuracy= 1.00000\n",
      "Iter 170000, Minibatch Loss= 0.016521, Training Accuracy= 1.00000\n",
      "Iter 175000, Minibatch Loss= 0.004363, Training Accuracy= 1.00000\n",
      "Iter 180000, Minibatch Loss= 0.125333, Training Accuracy= 0.98000\n",
      "Iter 185000, Minibatch Loss= 0.002549, Training Accuracy= 1.00000\n",
      "Iter 190000, Minibatch Loss= 0.016315, Training Accuracy= 1.00000\n",
      "Iter 195000, Minibatch Loss= 0.004602, Training Accuracy= 1.00000\n",
      "Optimization Finished!\n",
      "Testing Accuracy: 0.9898\n"
     ]
    }
   ],
   "source": [
    "# Launch the graph\n",
    "with tf.Session() as sess:\n",
    "    sess.run(init)\n",
    "    step = 1\n",
    "    # Keep training until reach max iterations\n",
    "    while step * batch_size < training_iters:\n",
    "        batch_x, batch_y = mnist.train.next_batch(batch_size)\n",
    "        # Run optimization op (backprop)\n",
    "        sess.run(optimizer, feed_dict={x: batch_x, y: batch_y,\n",
    "                                       keep_prob: dropout})\n",
    "        if step % display_step == 0:\n",
    "            # Calculate batch loss and accuracy\n",
    "            loss, acc = sess.run([cost, accuracy], feed_dict={x: batch_x,\n",
    "                                                              y: batch_y,\n",
    "                                                              keep_prob: 1.})\n",
    "            print(\"{:.2f}%, \".format(step/float(training_iters))+\"Iter \" + str(step*batch_size) + \", Minibatch Loss= \" + \\\n",
    "                  \"{:.6f}\".format(loss) + \", Training Accuracy= \" + \\\n",
    "                  \"{:.5f}\".format(acc))\n",
    "        step += 1\n",
    "    print(\"Optimization Finished!\")\n",
    "\n",
    "    # Calculate accuracy for all mnist test images\n",
    "    print(\"Testing Accuracy:\", \\\n",
    "        sess.run(accuracy, feed_dict={x: mnist.test.images,\n",
    "                                      y: mnist.test.labels,\n",
    "                                      keep_prob: 1.}))"
   ]
  }
 ],
 "metadata": {
  "kernelspec": {
   "display_name": "Python [conda env:tflearn]",
   "language": "python",
   "name": "conda-env-tflearn-py"
  },
  "language_info": {
   "codemirror_mode": {
    "name": "ipython",
    "version": 3
   },
   "file_extension": ".py",
   "mimetype": "text/x-python",
   "name": "python",
   "nbconvert_exporter": "python",
   "pygments_lexer": "ipython3",
   "version": "3.5.3"
  }
 },
 "nbformat": 4,
 "nbformat_minor": 2
}
